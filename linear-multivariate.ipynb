{
 "cells": [
  {
   "cell_type": "code",
   "execution_count": 1,
   "metadata": {},
   "outputs": [],
   "source": [
    "import matplotlib.pyplot as plt\n",
    "%matplotlib inline\n",
    "import pandas as pd\n",
    "import numpy as np\n",
    "import mpl_toolkits.mplot3d\n",
    "import itertools\n",
    "import seaborn as sns\n",
    "sns.set()\n",
    "# %config InlineBackend.figure_format = 'svg'"
   ]
  },
  {
   "cell_type": "code",
   "execution_count": 2,
   "metadata": {},
   "outputs": [
    {
     "name": "stdout",
     "output_type": "stream",
     "text": [
      "X (100, 3)\n"
     ]
    }
   ],
   "source": [
    "training_domain = np.linspace(-500, 500, num=100)\n",
    "X = np.vstack((\n",
    "  np.repeat(1, 100),\n",
    "  training_domain**2,\n",
    "  training_domain**3,\n",
    ")).transpose()\n",
    "print(\"X\", X.shape)"
   ]
  },
  {
   "cell_type": "code",
   "execution_count": 3,
   "metadata": {},
   "outputs": [
    {
     "name": "stdout",
     "output_type": "stream",
     "text": [
      "Y (100, 1)\n",
      "factors are -2.762868092835652 0.32659994369652784\n"
     ]
    }
   ],
   "source": [
    "x2factor = np.random.normal(0, 5)\n",
    "x3factor = np.random.standard_normal()\n",
    "Y = (5 + (X[:, 1] * x2factor) + X[:, 2] * x3factor).reshape(X.shape[0], 1)\n",
    "Y = Y * np.random.normal(1, 0.1, Y.shape)\n",
    "print(\"Y\", Y.shape)\n",
    "print(\"factors are\", x2factor, x3factor)"
   ]
  },
  {
   "cell_type": "code",
   "execution_count": 4,
   "metadata": {},
   "outputs": [],
   "source": [
    "def cost(hypothesis, X, Y):\n",
    "  return np.sum(np.square(Y - np.inner(hypothesis, X))) / (2 * len(X))"
   ]
  },
  {
   "cell_type": "code",
   "execution_count": 5,
   "metadata": {},
   "outputs": [],
   "source": [
    "def gradient_descent(X, Y, alpha=1e-4, tolerate=1e-4):\n",
    "  thetas = np.random.standard_normal(X.shape[1]).reshape(1, X.shape[1])\n",
    "  i = 0\n",
    "  while True:\n",
    "    i += 1\n",
    "    differences = np.inner(thetas, X).reshape(Y.shape[0], 1) - Y\n",
    "    derivative_terms = np.average(differences.reshape(Y.shape[0], 1) * X, axis=0)\n",
    "    thetas = thetas - alpha * derivative_terms\n",
    "    if np.all(np.abs(derivative_terms) < tolerate):\n",
    "      break\n",
    "    if i % 100000 == 0:\n",
    "      print(\"derivatives\", derivative_terms)\n",
    "      print(\"thetas\", thetas)\n",
    "  return thetas\n",
    "\n",
    "def normal_equation(X, Y):\n",
    "  return (np.linalg.pinv(X) @ Y).flatten()\n",
    "\n",
    "# Feature scaling\n",
    "def scale(X):\n",
    "  for i in range(1, X.shape[1]):\n",
    "    X[:, i] = (X[:, i] - np.mean(X[:, i])) / np.std(X[:, i])"
   ]
  },
  {
   "cell_type": "code",
   "execution_count": 6,
   "metadata": {},
   "outputs": [],
   "source": [
    "scale(X)"
   ]
  },
  {
   "cell_type": "code",
   "execution_count": 7,
   "metadata": {},
   "outputs": [
    {
     "name": "stdout",
     "output_type": "stream",
     "text": [
      "gradient descent result [ -313639.01903633  -465919.53297552 10462455.00941264]\n",
      "gradient descent cost 1.7577191573289676e+16\n",
      "quick [ -463509.66924748  -688556.62418186 15461867.23983966]\n",
      "quick cost 2.4069238659296936e+16\n"
     ]
    },
    {
     "data": {
      "image/png": "[encoded data removed]",
      "text/plain": [
       "<Figure size 432x288 with 1 Axes>"
      ]
     },
     "metadata": {},
     "output_type": "display_data"
    }
   ],
   "source": [
    "# high tolerance here to get something slightly more inaccurate than normal_equation\n",
    "gradient_result = gradient_descent(X, Y, tolerate=5e+6).reshape(X.shape[1])\n",
    "print(\"gradient descent result\", gradient_result)\n",
    "print(\"gradient descent cost\", cost(gradient_result, X, Y))\n",
    "quick = normal_equation(X, Y)\n",
    "print(\"quick\", quick)\n",
    "print(\"quick cost\", cost(quick, X, Y))\n",
    "actual = plt.scatter(training_domain, Y, marker='+', color='green')\n",
    "pinv, = plt.plot(training_domain, np.inner(quick, X), color='red', linestyle='-.')\n",
    "gradient, = plt.plot(training_domain, np.inner(gradient_result, X), color='blue')\n",
    "plt.legend((actual, pinv, gradient), (\"actual\", \"pinv\", \"gradient\"))\n",
    "plt.show()"
   ]
  }
 ],
 "metadata": {
  "kernelspec": {
   "display_name": "Python 3",
   "language": "python",
   "name": "python3"
  },
  "language_info": {
   "codemirror_mode": {
    "name": "ipython",
    "version": 3
   },
   "file_extension": ".py",
   "mimetype": "text/x-python",
   "name": "python",
   "nbconvert_exporter": "python",
   "pygments_lexer": "ipython3",
   "version": "3.6.4"
  }
 },
 "nbformat": 4,
 "nbformat_minor": 2
}
